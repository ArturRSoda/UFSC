{
 "cells": [
  {
   "cell_type": "markdown",
   "id": "5fc8f5c7-e389-4a75-9663-6e1ca1243570",
   "metadata": {},
   "source": [
    "# INE5341 – Computação Gráfica\r",
    "# Exercícios de Transformações\r\n",
    "1. Calcule as seguintes matrizes de transformação, e os pontos obtidos\r\n",
    "quando relevante:"
   ]
  },
  {
   "cell_type": "code",
   "execution_count": 2,
   "id": "ac6fe3a2-67d0-4a79-bca2-1adc557d88ca",
   "metadata": {},
   "outputs": [],
   "source": [
    "import numpy as np\n",
    "from math import sin, cos, radians"
   ]
  },
  {
   "cell_type": "markdown",
   "id": "138ca111-7ac8-4ddb-9afd-2abe8d7175d0",
   "metadata": {},
   "source": [
    "a) Translação do Ponto [1.0 3.0 1.0] para o Ponto [2.0 5.0 1.0]."
   ]
  },
  {
   "cell_type": "code",
   "execution_count": 22,
   "id": "84dfbcc4-06ab-41cb-8f12-8e42ee438038",
   "metadata": {},
   "outputs": [
    {
     "name": "stdout",
     "output_type": "stream",
     "text": [
      "ponto = [1 2 0]\n",
      "matriz = [[1 0 0]\n",
      " [0 1 0]\n",
      " [1 2 1]]\n"
     ]
    }
   ],
   "source": [
    "v1 = np.array([1, 3, 1])\n",
    "v2 = np.array([2, 5, 1])\n",
    "ra = v2 - v1\n",
    "ma = np.array([[1, 0, 0],\n",
    "               [0, 1, 0],\n",
    "               [1, 2, 1]])\n",
    "print(\"ponto =\", ra)\n",
    "print(\"matriz =\", ma)"
   ]
  },
  {
   "cell_type": "markdown",
   "id": "92d68930-a025-4f62-a7e6-3aa8523cab40",
   "metadata": {},
   "source": [
    "\n",
    "b) Translação do Ponto [2.0 5.0 1.0] para o Ponto [1.0 3.0 1.]"
   ]
  },
  {
   "cell_type": "code",
   "execution_count": 24,
   "id": "ca386966-ae98-4d16-a80d-c15b2f281c0f",
   "metadata": {},
   "outputs": [
    {
     "name": "stdout",
     "output_type": "stream",
     "text": [
      "ponto = [-1 -2  0]\n",
      "matriz = [[ 1  0  0]\n",
      " [ 0  1  0]\n",
      " [-1 -2  1]]\n"
     ]
    }
   ],
   "source": [
    "v1 = np.array([2, 5, 1])\n",
    "v2 = np.array([1, 3, 1])\n",
    "rb = v2 - v1\n",
    "mb = np.array([[ 1,  0, 0],\n",
    "               [ 0,  1, 0],\n",
    "               [-1, -2, 1]])\n",
    "print(\"ponto =\", rb)\n",
    "print(\"matriz =\", mb)"
   ]
  },
  {
   "cell_type": "markdown",
   "id": "b6f82a33-4a91-4998-95ca-5c871b5074b6",
   "metadata": {},
   "source": [
    "\n",
    "c) Escalonamento do Ponto [4.0 5.0 1.0] por [0.5 0.5]."
   ]
  },
  {
   "cell_type": "code",
   "execution_count": 8,
   "id": "51dc0bf0-c380-4b17-ac04-0ac560356568",
   "metadata": {},
   "outputs": [
    {
     "name": "stdout",
     "output_type": "stream",
     "text": [
      "ponto = [2.  2.5 1. ]\n",
      "matriz = [[0.5 0.  0. ]\n",
      " [0.  0.5 0. ]\n",
      " [0.  0.  1. ]]\n"
     ]
    }
   ],
   "source": [
    "v = np.array([4, 5, 1])\n",
    "mc = np.array([[0.5,   0,   0],\n",
    "               [  0, 0.5,   0],\n",
    "               [  0,   0,   1]])\n",
    "rc = np.matmul(v, mc)\n",
    "print(\"ponto =\", rc)\n",
    "print(\"matriz =\", mc)"
   ]
  },
  {
   "cell_type": "markdown",
   "id": "58d5faa7-dd44-49df-88c8-2c325fa96b42",
   "metadata": {},
   "source": [
    "d) Escalonamento do Ponto [2.0 2.5 1.0] por [2.0 2.0]."
   ]
  },
  {
   "cell_type": "code",
   "execution_count": 10,
   "id": "b0ba0b47-6573-4cf1-8acf-447f1205f8e3",
   "metadata": {},
   "outputs": [
    {
     "name": "stdout",
     "output_type": "stream",
     "text": [
      "ponto = [4. 5. 1.]\n",
      "matriz = [[2 0 0]\n",
      " [0 2 0]\n",
      " [0 0 1]]\n"
     ]
    }
   ],
   "source": [
    "v = np.array([2, 2.5, 1])\n",
    "md = np.array([[2, 0, 0],\n",
    "              [0, 2, 0],\n",
    "              [0, 0, 1]])\n",
    "rd = np.matmul(v, md)\n",
    "print(\"ponto =\", rd)\n",
    "print(\"matriz =\", md)"
   ]
  },
  {
   "cell_type": "markdown",
   "id": "e91421f1-95ec-4ff1-88cd-c14c1d9993e4",
   "metadata": {},
   "source": [
    "e) Rotação do Ponto [2.0 2.5 1.0] em 30⁰ ao redor da origem.\n"
   ]
  },
  {
   "cell_type": "code",
   "execution_count": 12,
   "id": "5853bdc9-d315-426d-9046-edc8a3c94ac5",
   "metadata": {},
   "outputs": [
    {
     "name": "stdout",
     "output_type": "stream",
     "text": [
      "ponto = [2.98205081 1.16506351 1.        ]\n",
      "matriz = [[ 0.8660254 -0.5        0.       ]\n",
      " [ 0.5        0.8660254  0.       ]\n",
      " [ 0.         0.         1.       ]]\n"
     ]
    }
   ],
   "source": [
    "v = np.array([2, 2.5, 1])\n",
    "me = np.array([[cos(radians(30)), -sin(radians(30)), 0],\n",
    "               [sin(radians(30)),  cos(radians(30)), 0],\n",
    "               [               0,                 0, 1]])\n",
    "re = np.matmul(v, me)\n",
    "print(\"ponto =\", re)\n",
    "print(\"matriz =\", me)"
   ]
  },
  {
   "cell_type": "markdown",
   "id": "e415d956-1c1c-4091-8920-67b8aec6805e",
   "metadata": {},
   "source": [
    "f) Rotação do Ponto [2.98 1.16 1.0] em ‐30⁰ ao redor da origem.\n"
   ]
  },
  {
   "cell_type": "code",
   "execution_count": 26,
   "id": "a0f2dd53-3dd8-4a87-a5f4-e2a2ef048fa7",
   "metadata": {},
   "outputs": [
    {
     "name": "stdout",
     "output_type": "stream",
     "text": [
      "ponto = [2.0007557  2.49458947 1.        ]\n",
      "matriz = [[ 0.8660254  0.5        0.       ]\n",
      " [-0.5        0.8660254  0.       ]\n",
      " [ 0.         0.         1.       ]]\n"
     ]
    }
   ],
   "source": [
    "v = np.array([2.98, 1.16, 1])\n",
    "mf = np.array([[cos(radians(-30)), -sin(radians(-30)), 0],\n",
    "               [sin(radians(-30)),  cos(radians(-30)), 0],\n",
    "               [                0,                  0, 1]])\n",
    "rf = np.matmul(v, mf)\n",
    "print(\"ponto =\", rf)\n",
    "print(\"matriz =\", mf)"
   ]
  },
  {
   "cell_type": "markdown",
   "id": "1dfa995b-7e45-4629-a58c-a9897bb08c36",
   "metadata": {},
   "source": [
    "g) A matriz obtida em “a” vezes a matriz obtida em “b”.  "
   ]
  },
  {
   "cell_type": "code",
   "execution_count": 31,
   "id": "b5507405-8602-4b39-8de0-f3d06eee857f",
   "metadata": {},
   "outputs": [
    {
     "name": "stdout",
     "output_type": "stream",
     "text": [
      "[[1 0 0]\n",
      " [0 1 0]\n",
      " [0 0 1]]\n"
     ]
    }
   ],
   "source": [
    "mg = np.matmul(ma, mb)\n",
    "print(mg)"
   ]
  },
  {
   "cell_type": "markdown",
   "id": "c9f95325-fe0f-4156-8fcf-ae4679e422e4",
   "metadata": {},
   "source": [
    "h) A matriz obtida em “c” vezes a matriz obtida em “d”.  "
   ]
  },
  {
   "cell_type": "code",
   "execution_count": 37,
   "id": "25217d59-827a-4d15-a62d-c2a8432f1d79",
   "metadata": {},
   "outputs": [
    {
     "name": "stdout",
     "output_type": "stream",
     "text": [
      "[[1 0 0]\n",
      " [0 1 0]\n",
      " [0 0 1]]\n"
     ]
    }
   ],
   "source": [
    "mh = np.matmul(mc, md)\n",
    "print(mg)"
   ]
  },
  {
   "cell_type": "markdown",
   "id": "925f8f47-bec6-4bba-8093-b398f53f8dc6",
   "metadata": {},
   "source": [
    "i) A matriz obtida em “e” vezes a matriz obtida em “f”.  \n"
   ]
  },
  {
   "cell_type": "code",
   "execution_count": 44,
   "id": "ecee87b7-3a7e-4c47-8578-a70ac1a77513",
   "metadata": {},
   "outputs": [
    {
     "name": "stdout",
     "output_type": "stream",
     "text": [
      "[[1. 0. 0.]\n",
      " [0. 1. 0.]\n",
      " [0. 0. 1.]]\n"
     ]
    }
   ],
   "source": [
    "mi = np.matmul(me, mf)\n",
    "print(mi)"
   ]
  },
  {
   "cell_type": "markdown",
   "id": "eea49fa6-1c3e-4dec-a6aa-dbb07f2a9257",
   "metadata": {},
   "source": [
    "j) O que você conclui pelos resultados obtidos em “g”, “h” e “i”?\r",
    "    "
   ]
  },
  {
   "cell_type": "markdown",
   "id": "f5d2a85f-d916-44a8-9b54-146bfd48c3ad",
   "metadata": {},
   "source": [
    "R: As mastrizes multiplicadas aplicam operacoes inversas de mesma distancia sobre os pontos."
   ]
  },
  {
   "cell_type": "markdown",
   "id": "881cc15e-7bcf-476d-a8d3-c5ac2c916bc7",
   "metadata": {},
   "source": [
    "k) A conclusão obtida em “j” é válida para a concatenação de várias\n",
    "transformações? Exemplifique."
   ]
  },
  {
   "cell_type": "markdown",
   "id": "5e5895c4-d696-4705-94b1-5f5ff81942d2",
   "metadata": {},
   "source": [
    "R: Sim, pois as matrizes quando muiltiplicadas resultam em uma matriz de transformacao que nao move o ponto\n",
    "\n",
    "Ex: p = ra * ma * mb | p = ra * 1 | p = ra"
   ]
  },
  {
   "cell_type": "markdown",
   "id": "aa643be7-393a-4f4f-8c22-97a264b46fb3",
   "metadata": {},
   "source": [
    "2) Quais as diferenças entre um ponto e um vetor? Mais precisamente,\r\n",
    "como as transformações básicas vistas até agora afetam pontos e vetores?\r\n",
    "Como podemos modelar esta distinção?"
   ]
  },
  {
   "cell_type": "markdown",
   "id": "e74d8d5a-a801-47ff-ac2d-11872d0052d6",
   "metadata": {},
   "source": [
    "R: ponto representa uma coordenada em um plano cartesiano, e vetor representa deslocamento no plano."
   ]
  },
  {
   "cell_type": "code",
   "execution_count": null,
   "id": "44bd157c-3667-4180-bab4-9bc83662e55b",
   "metadata": {},
   "outputs": [],
   "source": []
  }
 ],
 "metadata": {
  "kernelspec": {
   "display_name": "Python 3 (ipykernel)",
   "language": "python",
   "name": "python3"
  },
  "language_info": {
   "codemirror_mode": {
    "name": "ipython",
    "version": 3
   },
   "file_extension": ".py",
   "mimetype": "text/x-python",
   "name": "python",
   "nbconvert_exporter": "python",
   "pygments_lexer": "ipython3",
   "version": "3.12.4"
  }
 },
 "nbformat": 4,
 "nbformat_minor": 5
}
